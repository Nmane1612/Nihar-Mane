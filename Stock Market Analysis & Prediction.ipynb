{
  "nbformat": 4,
  "nbformat_minor": 0,
  "metadata": {
    "colab": {
      "name": "Stock Market Analysis & Prediction.ipynb",
      "private_outputs": true,
      "provenance": [],
      "collapsed_sections": [],
      "mount_file_id": "11NfRI93HQ67JGmwHcpZfZCoevTod2YMr",
      "authorship_tag": "ABX9TyNrdyOjdOSq61p8pJRk4xcM",
      "include_colab_link": true
    },
    "kernelspec": {
      "name": "python3",
      "display_name": "Python 3"
    }
  },
  "cells": [
    {
      "cell_type": "markdown",
      "metadata": {
        "id": "view-in-github",
        "colab_type": "text"
      },
      "source": [
        "<a href=\"https://colab.research.google.com/github/Nmane1612/Nihar-Mane/blob/master/Stock%20Market%20Analysis%20%26%20Prediction.ipynb\" target=\"_parent\"><img src=\"https://colab.research.google.com/assets/colab-badge.svg\" alt=\"Open In Colab\"/></a>"
      ]
    },
    {
      "cell_type": "markdown",
      "metadata": {
        "id": "SF-bBNUmoSf1"
      },
      "source": [
        "# ***Stock Market Analysis & Prediction (Data Warehousing & Mining project)***"
      ]
    },
    {
      "cell_type": "code",
      "metadata": {
        "id": "lL2hc7IIwtIf"
      },
      "source": [
        "#Libraries To Be Imported\r\n",
        "import math\r\n",
        "import pandas_datareader as web\r\n",
        "import numpy as np\r\n",
        "import pandas as pd\r\n",
        "import tensorflow\r\n",
        "from sklearn.preprocessing import MinMaxScaler\r\n",
        "from keras.models import Sequential\r\n",
        "from keras.layers import Dense , LSTM\r\n",
        "import matplotlib.pyplot as plt\r\n",
        "plt.style.use('fivethirtyeight')"
      ],
      "execution_count": null,
      "outputs": []
    },
    {
      "cell_type": "code",
      "metadata": {
        "id": "r757wcMIwutD"
      },
      "source": [
        "#Geting Stock Data \r\n",
        "df = web.DataReader('AAPL', data_source = 'yahoo', start = '2012-01-01', end = '2019-12-12')\r\n",
        "#Showing Stock Data\r\n",
        "df"
      ],
      "execution_count": null,
      "outputs": []
    },
    {
      "cell_type": "code",
      "metadata": {
        "id": "lPKRIY5CytFn"
      },
      "source": [
        "#Getting Number Of Rows & Columns From The Data\r\n",
        "df.shape"
      ],
      "execution_count": null,
      "outputs": []
    },
    {
      "cell_type": "code",
      "metadata": {
        "id": "svTQfSwWz4UY"
      },
      "source": [
        "#Visualise Closing Price\r\n",
        "plt.figure(figsize=(16,8))\r\n",
        "plt.title('Closing Price')\r\n",
        "plt.plot(df['Close'])\r\n",
        "plt.xlabel('Date', fontsize = 20)\r\n",
        "plt.ylabel('Close Price INR (₹)', fontsize = 20)\r\n",
        "plt.show()"
      ],
      "execution_count": null,
      "outputs": []
    },
    {
      "cell_type": "code",
      "metadata": {
        "id": "ns270Qzc30h8"
      },
      "source": [
        "#Creating Close Column DataFrame\r\n",
        "data = df.filter(['Close'])\r\n",
        "#Convert The DataFrame To A Numpy Array\r\n",
        "dataset = data.values\r\n",
        "#Get Number Of Rows To Train The Model On\r\n",
        "training_data_len = math.ceil(len(dataset)*.9)\r\n",
        "training_data_len"
      ],
      "execution_count": null,
      "outputs": []
    },
    {
      "cell_type": "code",
      "metadata": {
        "id": "3jNfqz6C6HdL"
      },
      "source": [
        "#Scaling Data\r\n",
        "scaler = MinMaxScaler(feature_range=(0,1))\r\n",
        "scaled_data = scaler.fit_transform(dataset)\r\n",
        "scaled_data"
      ],
      "execution_count": null,
      "outputs": []
    },
    {
      "cell_type": "code",
      "metadata": {
        "id": "P__BqJAXJYUF"
      },
      "source": [
        "#Creating Trained Data Set\r\n",
        "#Creating Scaled Training Data Set\r\n",
        "train_data = scaled_data[0:training_data_len , :]\r\n",
        "#Splitting Data Into x_train & y_train Data Sets\r\n",
        "x_train = []\r\n",
        "y_train = []\r\n",
        "for i in range(60,len(train_data)):\r\n",
        "  x_train.append(train_data[i-60:i,0])\r\n",
        "  y_train.append(train_data[i,0])\r\n",
        "  if i<=60:\r\n",
        "    print(x_train)\r\n",
        "    print(y_train)\r\n",
        "    print()"
      ],
      "execution_count": null,
      "outputs": []
    },
    {
      "cell_type": "code",
      "metadata": {
        "id": "hICMZiuXOOl1"
      },
      "source": [
        "#Convert x_train & y_train Dataset To Numpy Arrays\r\n",
        "x_train, y_train = np.array(x_train), np.array(y_train)"
      ],
      "execution_count": null,
      "outputs": []
    },
    {
      "cell_type": "code",
      "metadata": {
        "id": "8qabQC8rPbQ6"
      },
      "source": [
        "#Reshaping Data\r\n",
        "x_train = np.reshape(x_train, (x_train.shape[0], x_train.shape[1], 1))\r\n",
        "x_train.shape"
      ],
      "execution_count": null,
      "outputs": []
    },
    {
      "cell_type": "code",
      "metadata": {
        "id": "mIDlfaHLQbXj"
      },
      "source": [
        "#Building Long Short-Term Memory(LSTM) Model\r\n",
        "model = Sequential()\r\n",
        "model.add(LSTM(50, return_sequences=True, input_shape=(x_train.shape[1], 1)))\r\n",
        "model.add(LSTM(50, return_sequences=False))\r\n",
        "model.add(Dense(25))\r\n",
        "model.add(Dense(1))"
      ],
      "execution_count": null,
      "outputs": []
    },
    {
      "cell_type": "code",
      "metadata": {
        "id": "EpSwoH_FQ7Kg"
      },
      "source": [
        "#Compiling The Model\r\n",
        "model.compile(optimizer='adam', loss='mean_squared_error')"
      ],
      "execution_count": null,
      "outputs": []
    },
    {
      "cell_type": "code",
      "metadata": {
        "id": "Jb6M6U1lU7z4"
      },
      "source": [
        "#Training The Model\r\n",
        "model.fit(x_train, y_train, batch_size=1, epochs=1)"
      ],
      "execution_count": null,
      "outputs": []
    },
    {
      "cell_type": "code",
      "metadata": {
        "id": "eU_xJG5QV6it"
      },
      "source": [
        "#Create Testing Dataset\r\n",
        "#Create New Array Containing Scaled Values From index 1740 To 2000\r\n",
        "test_data = scaled_data[training_data_len - 60: , :]\r\n",
        "#Now Creating Data Sets x_test & y_test\r\n",
        "x_test = []\r\n",
        "y_test = dataset[training_data_len:, :]\r\n",
        "for i in range(60, len(test_data)):\r\n",
        "  x_test.append(test_data[i-60:i, 0])"
      ],
      "execution_count": null,
      "outputs": []
    },
    {
      "cell_type": "code",
      "metadata": {
        "id": "Wm2nJulMbTSr"
      },
      "source": [
        "#Converting The Data Into A Numpy Array\r\n",
        "x_test = np.array(x_test)"
      ],
      "execution_count": null,
      "outputs": []
    },
    {
      "cell_type": "code",
      "metadata": {
        "id": "ripkeaF9br5q"
      },
      "source": [
        "#Reshaping The Data\r\n",
        "x_test = np.reshape(x_test, (x_test.shape[0], x_test.shape[1], 1))"
      ],
      "execution_count": null,
      "outputs": []
    },
    {
      "cell_type": "code",
      "metadata": {
        "id": "aJil-sK6cP0R"
      },
      "source": [
        "#Get Models Predicted Price Values\r\n",
        "predictions = model.predict(x_test)\r\n",
        "predictions = scaler.inverse_transform(predictions)"
      ],
      "execution_count": null,
      "outputs": []
    },
    {
      "cell_type": "code",
      "metadata": {
        "id": "r8DeIW7_d-lW"
      },
      "source": [
        "#Get The Root Mean Squared Error (RMSE)\r\n",
        "rmse = np.sqrt(np.mean(predictions - y_test)**2)\r\n",
        "rmse"
      ],
      "execution_count": null,
      "outputs": []
    },
    {
      "cell_type": "code",
      "metadata": {
        "id": "0uBnwX9BgNIv"
      },
      "source": [
        "#Plot The Data\r\n",
        "train = data[:training_data_len]\r\n",
        "valid = data[training_data_len:]\r\n",
        "valid['Predictions'] = predictions\r\n",
        "#Visualizing The Data\r\n",
        "plt.figure(figsize=(16,8))\r\n",
        "plt.title('Model')\r\n",
        "plt.xlabel('Date', fontsize=20)\r\n",
        "plt.ylabel('Close Price INR (₹)', fontsize = 20)\r\n",
        "plt.plot(train['Close'])\r\n",
        "plt.plot(valid[['Close', 'Predictions']])\r\n",
        "plt.legend(['Train', 'Val', 'Predictions'], loc='upper left')\r\n",
        "plt.show()"
      ],
      "execution_count": null,
      "outputs": []
    },
    {
      "cell_type": "code",
      "metadata": {
        "id": "qrNQUegQn01A"
      },
      "source": [
        "#Show The Valid & Predicted Prices\r\n",
        "valid"
      ],
      "execution_count": null,
      "outputs": []
    },
    {
      "cell_type": "code",
      "metadata": {
        "id": "ZqeERn76omvW"
      },
      "source": [
        "#Get Quote\r\n",
        "apple_quote = web.DataReader('AAPL', data_source = 'yahoo', start = '2012-01-01', end = '2019-12-12')\r\n",
        "#Create New Dataframe\r\n",
        "new_df = apple_quote.filter(['Close'])\r\n",
        "#Get The Last 60 Day Closing Price Values & Convert The DataFrame To An Array\r\n",
        "last_60_days = new_df[-60:].values\r\n",
        "#Scale The Data To Be Values Between 0 & 1\r\n",
        "last_60_days_scaled = scaler.transform(last_60_days)\r\n",
        "#Creating An Empty List\r\n",
        "X_test = []\r\n",
        "#Append Past 60 Days\r\n",
        "X_test.append(last_60_days_scaled)\r\n",
        "#Convert X_test Data Set To A Numpy Array\r\n",
        "X_test = np.array(X_test)\r\n",
        "#Reshape The Data\r\n",
        "X_test = np.reshape(X_test, (X_test.shape[0], X_test.shape[1], 1))\r\n",
        "#Get Predicted Scaled Price\r\n",
        "pred_price = model.predict(X_test)\r\n",
        "#Undo Scaling\r\n",
        "pred_price = scaler.inverse_transform(pred_price)\r\n",
        "print(pred_price)"
      ],
      "execution_count": null,
      "outputs": []
    },
    {
      "cell_type": "code",
      "metadata": {
        "id": "tCjYnBckthJy"
      },
      "source": [
        "#Get Quote\r\n",
        "apple_quote1 = web.DataReader('AAPL', data_source='yahoo', start='2019-12-12', end='2019-12-12')\r\n",
        "print(apple_quote1['Close'])"
      ],
      "execution_count": null,
      "outputs": []
    }
  ]
}