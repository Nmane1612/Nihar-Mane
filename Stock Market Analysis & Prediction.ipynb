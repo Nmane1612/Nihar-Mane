{
  "nbformat": 4,
  "nbformat_minor": 0,
  "metadata": {
    "colab": {
      "name": " Stock Market Analysis & Prediction.ipynb",
      "provenance": [],
      "collapsed_sections": [],
      "mount_file_id": "1bpM-I-feyOwqUqj9wf0vE49ou3EHC8gN",
      "authorship_tag": "ABX9TyMtuNi01LAu7rWFXmt3Z02G",
      "include_colab_link": true
    },
    "kernelspec": {
      "name": "python3",
      "display_name": "Python 3"
    },
    "accelerator": "TPU"
  },
  "cells": [
    {
      "cell_type": "markdown",
      "metadata": {
        "id": "view-in-github",
        "colab_type": "text"
      },
      "source": [
        "<a href=\"https://colab.research.google.com/github/Nmane1612/Nihar-Mane/blob/master/Stock%20Market%20Analysis%20%26%20Prediction.ipynb\" target=\"_parent\"><img src=\"https://colab.research.google.com/assets/colab-badge.svg\" alt=\"Open In Colab\"/></a>"
      ]
    },
    {
      "cell_type": "markdown",
      "metadata": {
        "id": "SF-bBNUmoSf1"
      },
      "source": [
        "# ***Stock Market Analysis & Prediction (Data Warehousing & Mining project)***"
      ]
    },
    {
      "cell_type": "code",
      "metadata": {
        "id": "lL2hc7IIwtIf"
      },
      "source": [
        "#Libraries To Be Imported\n",
        "import math\n",
        "import pandas_datareader as web\n",
        "import numpy as np\n",
        "import pandas as pd\n",
        "import tensorflow\n",
        "from sklearn.preprocessing import MinMaxScaler\n",
        "from keras.models import Sequential\n",
        "from keras.layers import Dense , LSTM\n",
        "import matplotlib.pyplot as plt\n",
        "plt.style.use('fivethirtyeight')"
      ],
      "execution_count": 1,
      "outputs": []
    },
    {
      "cell_type": "code",
      "metadata": {
        "id": "r757wcMIwutD",
        "colab": {
          "base_uri": "https://localhost:8080/",
          "height": 446
        },
        "outputId": "bed66a9c-8ce2-4626-d200-71113db36b2d"
      },
      "source": [
        "#Geting Stock Data \n",
        "df = web.DataReader('AAPL', data_source = 'yahoo', start = '2012-01-01', end = '2019-12-12')\n",
        "#Showing Stock Data\n",
        "df"
      ],
      "execution_count": 2,
      "outputs": [
        {
          "output_type": "execute_result",
          "data": {
            "text/html": [
              "<div>\n",
              "<style scoped>\n",
              "    .dataframe tbody tr th:only-of-type {\n",
              "        vertical-align: middle;\n",
              "    }\n",
              "\n",
              "    .dataframe tbody tr th {\n",
              "        vertical-align: top;\n",
              "    }\n",
              "\n",
              "    .dataframe thead th {\n",
              "        text-align: right;\n",
              "    }\n",
              "</style>\n",
              "<table border=\"1\" class=\"dataframe\">\n",
              "  <thead>\n",
              "    <tr style=\"text-align: right;\">\n",
              "      <th></th>\n",
              "      <th>High</th>\n",
              "      <th>Low</th>\n",
              "      <th>Open</th>\n",
              "      <th>Close</th>\n",
              "      <th>Volume</th>\n",
              "      <th>Adj Close</th>\n",
              "    </tr>\n",
              "    <tr>\n",
              "      <th>Date</th>\n",
              "      <th></th>\n",
              "      <th></th>\n",
              "      <th></th>\n",
              "      <th></th>\n",
              "      <th></th>\n",
              "      <th></th>\n",
              "    </tr>\n",
              "  </thead>\n",
              "  <tbody>\n",
              "    <tr>\n",
              "      <th>2012-01-03</th>\n",
              "      <td>14.732143</td>\n",
              "      <td>14.607143</td>\n",
              "      <td>14.621429</td>\n",
              "      <td>14.686786</td>\n",
              "      <td>302220800.0</td>\n",
              "      <td>12.650659</td>\n",
              "    </tr>\n",
              "    <tr>\n",
              "      <th>2012-01-04</th>\n",
              "      <td>14.810000</td>\n",
              "      <td>14.617143</td>\n",
              "      <td>14.642857</td>\n",
              "      <td>14.765714</td>\n",
              "      <td>260022000.0</td>\n",
              "      <td>12.718646</td>\n",
              "    </tr>\n",
              "    <tr>\n",
              "      <th>2012-01-05</th>\n",
              "      <td>14.948214</td>\n",
              "      <td>14.738214</td>\n",
              "      <td>14.819643</td>\n",
              "      <td>14.929643</td>\n",
              "      <td>271269600.0</td>\n",
              "      <td>12.859850</td>\n",
              "    </tr>\n",
              "    <tr>\n",
              "      <th>2012-01-06</th>\n",
              "      <td>15.098214</td>\n",
              "      <td>14.972143</td>\n",
              "      <td>14.991786</td>\n",
              "      <td>15.085714</td>\n",
              "      <td>318292800.0</td>\n",
              "      <td>12.994284</td>\n",
              "    </tr>\n",
              "    <tr>\n",
              "      <th>2012-01-09</th>\n",
              "      <td>15.276786</td>\n",
              "      <td>15.048214</td>\n",
              "      <td>15.196429</td>\n",
              "      <td>15.061786</td>\n",
              "      <td>394024400.0</td>\n",
              "      <td>12.973674</td>\n",
              "    </tr>\n",
              "    <tr>\n",
              "      <th>...</th>\n",
              "      <td>...</td>\n",
              "      <td>...</td>\n",
              "      <td>...</td>\n",
              "      <td>...</td>\n",
              "      <td>...</td>\n",
              "      <td>...</td>\n",
              "    </tr>\n",
              "    <tr>\n",
              "      <th>2019-12-06</th>\n",
              "      <td>67.750000</td>\n",
              "      <td>66.824997</td>\n",
              "      <td>66.870003</td>\n",
              "      <td>67.677498</td>\n",
              "      <td>106075600.0</td>\n",
              "      <td>66.997925</td>\n",
              "    </tr>\n",
              "    <tr>\n",
              "      <th>2019-12-09</th>\n",
              "      <td>67.699997</td>\n",
              "      <td>66.227501</td>\n",
              "      <td>67.500000</td>\n",
              "      <td>66.730003</td>\n",
              "      <td>128042400.0</td>\n",
              "      <td>66.059944</td>\n",
              "    </tr>\n",
              "    <tr>\n",
              "      <th>2019-12-10</th>\n",
              "      <td>67.517502</td>\n",
              "      <td>66.464996</td>\n",
              "      <td>67.150002</td>\n",
              "      <td>67.120003</td>\n",
              "      <td>90420400.0</td>\n",
              "      <td>66.446022</td>\n",
              "    </tr>\n",
              "    <tr>\n",
              "      <th>2019-12-11</th>\n",
              "      <td>67.775002</td>\n",
              "      <td>67.125000</td>\n",
              "      <td>67.202499</td>\n",
              "      <td>67.692497</td>\n",
              "      <td>78756800.0</td>\n",
              "      <td>67.012764</td>\n",
              "    </tr>\n",
              "    <tr>\n",
              "      <th>2019-12-12</th>\n",
              "      <td>68.139999</td>\n",
              "      <td>66.830002</td>\n",
              "      <td>66.945000</td>\n",
              "      <td>67.864998</td>\n",
              "      <td>137310400.0</td>\n",
              "      <td>67.183548</td>\n",
              "    </tr>\n",
              "  </tbody>\n",
              "</table>\n",
              "<p>2000 rows × 6 columns</p>\n",
              "</div>"
            ],
            "text/plain": [
              "                 High        Low       Open      Close       Volume  Adj Close\n",
              "Date                                                                          \n",
              "2012-01-03  14.732143  14.607143  14.621429  14.686786  302220800.0  12.650659\n",
              "2012-01-04  14.810000  14.617143  14.642857  14.765714  260022000.0  12.718646\n",
              "2012-01-05  14.948214  14.738214  14.819643  14.929643  271269600.0  12.859850\n",
              "2012-01-06  15.098214  14.972143  14.991786  15.085714  318292800.0  12.994284\n",
              "2012-01-09  15.276786  15.048214  15.196429  15.061786  394024400.0  12.973674\n",
              "...               ...        ...        ...        ...          ...        ...\n",
              "2019-12-06  67.750000  66.824997  66.870003  67.677498  106075600.0  66.997925\n",
              "2019-12-09  67.699997  66.227501  67.500000  66.730003  128042400.0  66.059944\n",
              "2019-12-10  67.517502  66.464996  67.150002  67.120003   90420400.0  66.446022\n",
              "2019-12-11  67.775002  67.125000  67.202499  67.692497   78756800.0  67.012764\n",
              "2019-12-12  68.139999  66.830002  66.945000  67.864998  137310400.0  67.183548\n",
              "\n",
              "[2000 rows x 6 columns]"
            ]
          },
          "metadata": {
            "tags": []
          },
          "execution_count": 2
        }
      ]
    },
    {
      "cell_type": "code",
      "metadata": {
        "id": "lPKRIY5CytFn",
        "colab": {
          "base_uri": "https://localhost:8080/",
          "height": 0
        },
        "outputId": "e8c7dd9c-6ee0-42bd-b94b-f28c479dff61"
      },
      "source": [
        "#Getting Number Of Rows & Columns From The Data\n",
        "df.shape"
      ],
      "execution_count": 3,
      "outputs": [
        {
          "output_type": "execute_result",
          "data": {
            "text/plain": [
              "(2000, 6)"
            ]
          },
          "metadata": {
            "tags": []
          },
          "execution_count": 3
        }
      ]
    },
    {
      "cell_type": "code",
      "metadata": {
        "id": "svTQfSwWz4UY",
        "colab": {
          "base_uri": "https://localhost:8080/",
          "height": 519
        },
        "outputId": "0d4ecc3e-3f60-4e5f-c320-c41afad2d3a7"
      },
      "source": [
        "#Visualise Closing Price\n",
        "plt.figure(figsize=(16,8))\n",
        "plt.title('Closing Price')\n",
        "plt.plot(df['Close'])\n",
        "plt.xlabel('Year', fontsize = 20)\n",
        "plt.ylabel('Close Price INR (₹)', fontsize = 20)\n",
        "plt.show()"
      ],
      "execution_count": 4,
      "outputs": [
        {
          "output_type": "display_data",
          "data": {
            "image/png": "[encoded data removed]",
            "text/plain": [
              "<Figure size 1152x576 with 1 Axes>"
            ]
          },
          "metadata": {
            "tags": [],
            "needs_background": "light"
          }
        }
      ]
    },
    {
      "cell_type": "code",
      "metadata": {
        "id": "ns270Qzc30h8",
        "colab": {
          "base_uri": "https://localhost:8080/",
          "height": 0
        },
        "outputId": "cebe8ef2-6409-441b-95d8-4a8d60647d17"
      },
      "source": [
        "#Creating Close Column DataFrame\n",
        "data = df.filter(['Close'])\n",
        "#Convert The DataFrame To A Numpy Array\n",
        "dataset = data.values\n",
        "#Get Number Of Rows To Train The Model On\n",
        "training_data_len = math.ceil(len(dataset)*.9)\n",
        "training_data_len"
      ],
      "execution_count": 5,
      "outputs": [
        {
          "output_type": "execute_result",
          "data": {
            "text/plain": [
              "1800"
            ]
          },
          "metadata": {
            "tags": []
          },
          "execution_count": 5
        }
      ]
    },
    {
      "cell_type": "code",
      "metadata": {
        "id": "3jNfqz6C6HdL",
        "colab": {
          "base_uri": "https://localhost:8080/",
          "height": 0
        },
        "outputId": "b2444fc6-cdb2-4d8f-9677-d5edff48ccf4"
      },
      "source": [
        "#Scaling Data\n",
        "scaler = MinMaxScaler(feature_range=(0,1))\n",
        "scaled_data = scaler.fit_transform(dataset)\n",
        "scaled_data"
      ],
      "execution_count": 6,
      "outputs": [
        {
          "output_type": "execute_result",
          "data": {
            "text/plain": [
              "array([[0.01371142],\n",
              "       [0.01517529],\n",
              "       [0.01821565],\n",
              "       ...,\n",
              "       [0.98618268],\n",
              "       [0.99680066],\n",
              "       [1.        ]])"
            ]
          },
          "metadata": {
            "tags": []
          },
          "execution_count": 6
        }
      ]
    },
    {
      "cell_type": "code",
      "metadata": {
        "id": "P__BqJAXJYUF",
        "colab": {
          "base_uri": "https://localhost:8080/",
          "height": 0
        },
        "outputId": "f4258583-803b-49c3-cf5e-5b96fd15344c"
      },
      "source": [
        "#Creating Trained Data Set\n",
        "#Creating Scaled Training Data Set\n",
        "train_data = scaled_data[0:training_data_len , :]\n",
        "#Splitting Data Into x_train & y_train Data Sets\n",
        "x_train = []\n",
        "y_train = []\n",
        "for i in range(60,len(train_data)):\n",
        "  x_train.append(train_data[i-60:i,0])\n",
        "  y_train.append(train_data[i,0])\n",
        "  if i<=60:\n",
        "    print(x_train)\n",
        "    print(y_train)\n",
        "    print()"
      ],
      "execution_count": 7,
      "outputs": [
        {
          "output_type": "stream",
          "text": [
            "[array([0.01371142, 0.01517529, 0.01821565, 0.02111029, 0.02066649,\n",
            "       0.02166669, 0.02120964, 0.02044127, 0.0193947 , 0.02263378,\n",
            "       0.02555492, 0.02465407, 0.01971926, 0.02442885, 0.01979214,\n",
            "       0.03717981, 0.03583518, 0.0375905 , 0.04138597, 0.04368445,\n",
            "       0.04349236, 0.04278362, 0.0458041 , 0.04864573, 0.05186496,\n",
            "       0.0570647 , 0.06798747, 0.06815306, 0.0742338 , 0.07877776,\n",
            "       0.07096823, 0.07397545, 0.07391584, 0.08234805, 0.0811491 ,\n",
            "       0.08336809, 0.08735567, 0.08957469, 0.09596673, 0.10062329,\n",
            "       0.10196794, 0.10243825, 0.09447637, 0.09255542, 0.09284026,\n",
            "       0.10032525, 0.10243164, 0.10695575, 0.11762017, 0.13184827,\n",
            "       0.12918546, 0.12919208, 0.13947897, 0.1426982 , 0.1404063 ,\n",
            "       0.13831318, 0.13613392, 0.14337379, 0.14834173, 0.15042162])]\n",
            "[0.1452814791071425]\n",
            "\n"
          ],
          "name": "stdout"
        }
      ]
    },
    {
      "cell_type": "code",
      "metadata": {
        "id": "hICMZiuXOOl1"
      },
      "source": [
        "#Convert x_train & y_train Dataset To Numpy Arrays\n",
        "x_train, y_train = np.array(x_train), np.array(y_train)"
      ],
      "execution_count": 8,
      "outputs": []
    },
    {
      "cell_type": "code",
      "metadata": {
        "id": "8qabQC8rPbQ6",
        "colab": {
          "base_uri": "https://localhost:8080/",
          "height": 0
        },
        "outputId": "6336fd6a-4c8f-4038-9a22-df906af358bf"
      },
      "source": [
        "#Reshaping Data\n",
        "x_train = np.reshape(x_train, (x_train.shape[0], x_train.shape[1], 1))\n",
        "x_train.shape"
      ],
      "execution_count": 9,
      "outputs": [
        {
          "output_type": "execute_result",
          "data": {
            "text/plain": [
              "(1740, 60, 1)"
            ]
          },
          "metadata": {
            "tags": []
          },
          "execution_count": 9
        }
      ]
    },
    {
      "cell_type": "code",
      "metadata": {
        "id": "mIDlfaHLQbXj"
      },
      "source": [
        "#Building Long Short-Term Memory(LSTM) Model\n",
        "model = Sequential()\n",
        "model.add(LSTM(50, return_sequences=True, input_shape=(x_train.shape[1], 1)))\n",
        "model.add(LSTM(50, return_sequences=False))\n",
        "model.add(Dense(25))\n",
        "model.add(Dense(1))"
      ],
      "execution_count": 10,
      "outputs": []
    },
    {
      "cell_type": "code",
      "metadata": {
        "id": "EpSwoH_FQ7Kg"
      },
      "source": [
        "#Compiling The Model\n",
        "model.compile(optimizer='adam', loss='mean_squared_error')"
      ],
      "execution_count": 11,
      "outputs": []
    },
    {
      "cell_type": "code",
      "metadata": {
        "id": "Jb6M6U1lU7z4",
        "colab": {
          "base_uri": "https://localhost:8080/",
          "height": 0
        },
        "outputId": "219903b5-fc0c-4097-fdc2-6f11ed2d85f3"
      },
      "source": [
        "#Training The Model\n",
        "model.fit(x_train, y_train, batch_size=1, epochs=1)"
      ],
      "execution_count": 12,
      "outputs": [
        {
          "output_type": "stream",
          "text": [
            "1740/1740 [==============================] - 42s 23ms/step - loss: 0.0038\n"
          ],
          "name": "stdout"
        },
        {
          "output_type": "execute_result",
          "data": {
            "text/plain": [
              "<tensorflow.python.keras.callbacks.History at 0x7f83ad7a6790>"
            ]
          },
          "metadata": {
            "tags": []
          },
          "execution_count": 12
        }
      ]
    },
    {
      "cell_type": "code",
      "metadata": {
        "id": "eU_xJG5QV6it"
      },
      "source": [
        "#Create Testing Dataset\n",
        "#Create New Array Containing Scaled Values From index 1740 To 2000\n",
        "test_data = scaled_data[training_data_len - 60: , :]\n",
        "#Now Creating Data Sets x_test & y_test\n",
        "x_test = []\n",
        "y_test = dataset[training_data_len:, :]\n",
        "for i in range(60, len(test_data)):\n",
        "  x_test.append(test_data[i-60:i, 0])"
      ],
      "execution_count": 13,
      "outputs": []
    },
    {
      "cell_type": "code",
      "metadata": {
        "id": "Wm2nJulMbTSr"
      },
      "source": [
        "#Converting The Data Into A Numpy Array\n",
        "x_test = np.array(x_test)"
      ],
      "execution_count": 14,
      "outputs": []
    },
    {
      "cell_type": "code",
      "metadata": {
        "id": "ripkeaF9br5q"
      },
      "source": [
        "#Reshaping The Data\n",
        "x_test = np.reshape(x_test, (x_test.shape[0], x_test.shape[1], 1))"
      ],
      "execution_count": 15,
      "outputs": []
    },
    {
      "cell_type": "code",
      "metadata": {
        "id": "aJil-sK6cP0R"
      },
      "source": [
        "#Get Models Predicted Price Values\n",
        "predictions = model.predict(x_test)\n",
        "predictions = scaler.inverse_transform(predictions)"
      ],
      "execution_count": 16,
      "outputs": []
    },
    {
      "cell_type": "code",
      "metadata": {
        "id": "r8DeIW7_d-lW",
        "colab": {
          "base_uri": "https://localhost:8080/",
          "height": 0
        },
        "outputId": "1e498182-a5b5-4621-9693-4027fef29fbb"
      },
      "source": [
        "#Get The Root Mean Squared Error (RMSE)\n",
        "rmse = np.sqrt(np.mean(predictions - y_test)**2)\n",
        "rmse"
      ],
      "execution_count": 17,
      "outputs": [
        {
          "output_type": "execute_result",
          "data": {
            "text/plain": [
              "0.2834300994873047"
            ]
          },
          "metadata": {
            "tags": []
          },
          "execution_count": 17
        }
      ]
    },
    {
      "cell_type": "code",
      "metadata": {
        "id": "0uBnwX9BgNIv",
        "colab": {
          "base_uri": "https://localhost:8080/",
          "height": 623
        },
        "outputId": "6a94cae6-5f77-4109-97f4-a2539dc68331"
      },
      "source": [
        "#Plot The Data\n",
        "train = data[:training_data_len]\n",
        "valid = data[training_data_len:]\n",
        "valid['Predictions'] = predictions\n",
        "#Visualizing The Data\n",
        "plt.figure(figsize=(16,8))\n",
        "plt.title('Prediction Model')\n",
        "plt.xlabel('Year', fontsize=20)\n",
        "plt.ylabel('Close Price INR (₹)', fontsize = 20)\n",
        "plt.plot(train['Close'])\n",
        "plt.plot(valid[['Close', 'Predictions']])\n",
        "plt.legend(['Train', 'Val', 'Predictions'], loc='upper left')\n",
        "plt.show()"
      ],
      "execution_count": 18,
      "outputs": [
        {
          "output_type": "stream",
          "text": [
            "/usr/local/lib/python3.7/dist-packages/ipykernel_launcher.py:4: SettingWithCopyWarning: \n",
            "A value is trying to be set on a copy of a slice from a DataFrame.\n",
            "Try using .loc[row_indexer,col_indexer] = value instead\n",
            "\n",
            "See the caveats in the documentation: https://pandas.pydata.org/pandas-docs/stable/user_guide/indexing.html#returning-a-view-versus-a-copy\n",
            "  after removing the cwd from sys.path.\n"
          ],
          "name": "stderr"
        },
        {
          "output_type": "display_data",
          "data": {
            "image/png": "[encoded data removed]",
            "text/plain": [
              "<Figure size 1152x576 with 1 Axes>"
            ]
          },
          "metadata": {
            "tags": [],
            "needs_background": "light"
          }
        }
      ]
    },
    {
      "cell_type": "code",
      "metadata": {
        "id": "qrNQUegQn01A",
        "colab": {
          "base_uri": "https://localhost:8080/",
          "height": 446
        },
        "outputId": "901218be-b4c5-497c-ca43-f3a8f1bd43b6"
      },
      "source": [
        "#Show The Valid & Predicted Prices\n",
        "valid"
      ],
      "execution_count": 19,
      "outputs": [
        {
          "output_type": "execute_result",
          "data": {
            "text/html": [
              "<div>\n",
              "<style scoped>\n",
              "    .dataframe tbody tr th:only-of-type {\n",
              "        vertical-align: middle;\n",
              "    }\n",
              "\n",
              "    .dataframe tbody tr th {\n",
              "        vertical-align: top;\n",
              "    }\n",
              "\n",
              "    .dataframe thead th {\n",
              "        text-align: right;\n",
              "    }\n",
              "</style>\n",
              "<table border=\"1\" class=\"dataframe\">\n",
              "  <thead>\n",
              "    <tr style=\"text-align: right;\">\n",
              "      <th></th>\n",
              "      <th>Close</th>\n",
              "      <th>Predictions</th>\n",
              "    </tr>\n",
              "    <tr>\n",
              "      <th>Date</th>\n",
              "      <th></th>\n",
              "      <th></th>\n",
              "    </tr>\n",
              "  </thead>\n",
              "  <tbody>\n",
              "    <tr>\n",
              "      <th>2019-03-01</th>\n",
              "      <td>43.742500</td>\n",
              "      <td>43.603397</td>\n",
              "    </tr>\n",
              "    <tr>\n",
              "      <th>2019-03-04</th>\n",
              "      <td>43.962502</td>\n",
              "      <td>43.702484</td>\n",
              "    </tr>\n",
              "    <tr>\n",
              "      <th>2019-03-05</th>\n",
              "      <td>43.882500</td>\n",
              "      <td>43.817387</td>\n",
              "    </tr>\n",
              "    <tr>\n",
              "      <th>2019-03-06</th>\n",
              "      <td>43.630001</td>\n",
              "      <td>43.923248</td>\n",
              "    </tr>\n",
              "    <tr>\n",
              "      <th>2019-03-07</th>\n",
              "      <td>43.125000</td>\n",
              "      <td>43.992432</td>\n",
              "    </tr>\n",
              "    <tr>\n",
              "      <th>...</th>\n",
              "      <td>...</td>\n",
              "      <td>...</td>\n",
              "    </tr>\n",
              "    <tr>\n",
              "      <th>2019-12-06</th>\n",
              "      <td>67.677498</td>\n",
              "      <td>65.635963</td>\n",
              "    </tr>\n",
              "    <tr>\n",
              "      <th>2019-12-09</th>\n",
              "      <td>66.730003</td>\n",
              "      <td>65.780037</td>\n",
              "    </tr>\n",
              "    <tr>\n",
              "      <th>2019-12-10</th>\n",
              "      <td>67.120003</td>\n",
              "      <td>65.899269</td>\n",
              "    </tr>\n",
              "    <tr>\n",
              "      <th>2019-12-11</th>\n",
              "      <td>67.692497</td>\n",
              "      <td>66.042450</td>\n",
              "    </tr>\n",
              "    <tr>\n",
              "      <th>2019-12-12</th>\n",
              "      <td>67.864998</td>\n",
              "      <td>66.235985</td>\n",
              "    </tr>\n",
              "  </tbody>\n",
              "</table>\n",
              "<p>200 rows × 2 columns</p>\n",
              "</div>"
            ],
            "text/plain": [
              "                Close  Predictions\n",
              "Date                              \n",
              "2019-03-01  43.742500    43.603397\n",
              "2019-03-04  43.962502    43.702484\n",
              "2019-03-05  43.882500    43.817387\n",
              "2019-03-06  43.630001    43.923248\n",
              "2019-03-07  43.125000    43.992432\n",
              "...               ...          ...\n",
              "2019-12-06  67.677498    65.635963\n",
              "2019-12-09  66.730003    65.780037\n",
              "2019-12-10  67.120003    65.899269\n",
              "2019-12-11  67.692497    66.042450\n",
              "2019-12-12  67.864998    66.235985\n",
              "\n",
              "[200 rows x 2 columns]"
            ]
          },
          "metadata": {
            "tags": []
          },
          "execution_count": 19
        }
      ]
    },
    {
      "cell_type": "code",
      "metadata": {
        "id": "ZqeERn76omvW",
        "colab": {
          "base_uri": "https://localhost:8080/",
          "height": 0
        },
        "outputId": "737fddd9-a7c8-4d53-cc45-5250e57ace63"
      },
      "source": [
        "#Get Predicted Quote\n",
        "apple_quote = web.DataReader('AAPL', data_source = 'yahoo', start = '2012-01-01', end = '2019-12-12')\n",
        "#Create New Dataframe\n",
        "new_df = apple_quote.filter(['Close'])\n",
        "#Get The Last 60 Day Closing Price Values & Convert The DataFrame To An Array\n",
        "last_60_days = new_df[-60:].values\n",
        "#Scale The Data To Be Values Between 0 & 1\n",
        "last_60_days_scaled = scaler.transform(last_60_days)\n",
        "#Creating An Empty List\n",
        "X_test = []\n",
        "#Append Past 60 Days\n",
        "X_test.append(last_60_days_scaled)\n",
        "#Convert X_test Data Set To A Numpy Array\n",
        "X_test = np.array(X_test)\n",
        "#Reshape The Data\n",
        "X_test = np.reshape(X_test, (X_test.shape[0], X_test.shape[1], 1))\n",
        "#Get Predicted Scaled Price\n",
        "pred_price = model.predict(X_test)\n",
        "#Undo Scaling\n",
        "pred_price = scaler.inverse_transform(pred_price)\n",
        "print(pred_price)"
      ],
      "execution_count": 20,
      "outputs": [
        {
          "output_type": "stream",
          "text": [
            "[[66.44942]]\n"
          ],
          "name": "stdout"
        }
      ]
    },
    {
      "cell_type": "code",
      "metadata": {
        "id": "tCjYnBckthJy",
        "colab": {
          "base_uri": "https://localhost:8080/",
          "height": 0
        },
        "outputId": "41df3b8b-291f-4d9f-fe8d-dcf7dc163255"
      },
      "source": [
        "#Get Real Quote\n",
        "apple_quote1 = web.DataReader('AAPL', data_source='yahoo', start='2019-12-12', end='2019-12-12')\n",
        "print(apple_quote1['Close'])"
      ],
      "execution_count": 21,
      "outputs": [
        {
          "output_type": "stream",
          "text": [
            "Date\n",
            "2019-12-12    67.864998\n",
            "Name: Close, dtype: float64\n"
          ],
          "name": "stdout"
        }
      ]
    }
  ]
}